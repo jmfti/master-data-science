{
 "cells": [
  {
   "cell_type": "markdown",
   "metadata": {},
   "source": [
    "# Leccion 1.3 - Map Reduce"
   ]
  },
  {
   "cell_type": "markdown",
   "metadata": {},
   "source": [
    "Patrones en Map Reduce\n",
    "* Resumen numérico (hallar minimos, maximos, etc.)\n",
    "    * contador de registros\n",
    "* de filtrado\n",
    "    * simplemente ir filtrando lo que interesa y lo que no, lo que interesa se manda a stdout y lo que no no\n",
    "* join\n",
    "    * para unir varios ficheros por campos, similar a SQL JOIN\n",
    "    \n",
    "    \n"
   ]
  },
  {
   "cell_type": "code",
   "execution_count": 1,
   "metadata": {},
   "outputs": [
    {
     "name": "stdout",
     "output_type": "stream",
     "text": [
      "0,Photo Editor & Candy Camera & Grid & ScrapBook,ART_AND_DESIGN,4.1,159,10000,Free,0\r\n",
      "1,Coloring book moana,ART_AND_DESIGN,3.9,967,500000,Free,0\r\n",
      "2,U Launcher Lite – FREE Live Cool Themes Hide Apps,ART_AND_DESIGN,4.7,87510,5000000,Free,0\r\n",
      "3,Sketch - Draw & Paint,ART_AND_DESIGN,4.5,215644,50000000,Free,0\r\n",
      "4,Pixel Draw - Number Art Coloring Book,ART_AND_DESIGN,4.3,967,100000,Free,0\r\n",
      "5,Paper flowers instructions,ART_AND_DESIGN,4.4,167,50000,Free,0\r\n",
      "6,Smoke Effect Photo Maker - Smoke Editor,ART_AND_DESIGN,3.8,178,50000,Free,0\r\n",
      "7,Infinite Painter,ART_AND_DESIGN,4.1,36815,1000000,Free,0\r\n",
      "8,Garden Coloring Book,ART_AND_DESIGN,4.4,13791,1000000,Free,0\r\n",
      "9,Kids Paint Free - Drawing Fun,ART_AND_DESIGN,4.7,121,10000,Free,0\r\n"
     ]
    }
   ],
   "source": [
    "!head /dataset/googleplaystoreV3.csv"
   ]
  },
  {
   "cell_type": "markdown",
   "metadata": {},
   "source": [
    "## Filtrado"
   ]
  },
  {
   "cell_type": "code",
   "execution_count": 2,
   "metadata": {},
   "outputs": [
    {
     "name": "stdout",
     "output_type": "stream",
     "text": [
      "Overwriting mapper_filter.py\n"
     ]
    }
   ],
   "source": [
    "%%writefile mapper_filter.py\n",
    "#!/usr/bin/env python3\n",
    "import sys\n",
    "\n",
    "for line in sys.stdin:\n",
    "    index, app, category, rating, reviews, installs, type_, price = line.strip('\\n').split(',')\n",
    "    if type_ == \"Paid\":\n",
    "        print(f\"{app},{category},{rating},{reviews},{installs},{price}\")\n",
    "    "
   ]
  },
  {
   "cell_type": "code",
   "execution_count": 3,
   "metadata": {},
   "outputs": [
    {
     "name": "stdout",
     "output_type": "stream",
     "text": [
      "2022-11-03 19:55:15,050 WARN streaming.StreamJob: -file option is deprecated, please use generic option -files instead.\n",
      "packageJobJar: [./mapper_filter.py] [/app/hadoop-3.3.1/share/hadoop/tools/lib/hadoop-streaming-3.3.1.jar] /tmp/streamjob5172172040387649909.jar tmpDir=null\n",
      "2022-11-03 19:55:15,614 INFO client.DefaultNoHARMFailoverProxyProvider: Connecting to ResourceManager at yarnmaster/172.18.0.6:8032\n",
      "2022-11-03 19:55:15,729 INFO client.DefaultNoHARMFailoverProxyProvider: Connecting to ResourceManager at yarnmaster/172.18.0.6:8032\n",
      "2022-11-03 19:55:15,875 INFO mapreduce.JobResourceUploader: Disabling Erasure Coding for path: /tmp/hadoop-yarn/staging/root/.staging/job_1667501234871_0001\n",
      "2022-11-03 19:55:16,121 INFO mapred.FileInputFormat: Total input files to process : 1\n",
      "2022-11-03 19:55:16,180 INFO mapreduce.JobSubmitter: number of splits:2\n",
      "2022-11-03 19:55:16,268 INFO mapreduce.JobSubmitter: Submitting tokens for job: job_1667501234871_0001\n",
      "2022-11-03 19:55:16,268 INFO mapreduce.JobSubmitter: Executing with tokens: []\n",
      "2022-11-03 19:55:16,382 INFO conf.Configuration: resource-types.xml not found\n",
      "2022-11-03 19:55:16,382 INFO resource.ResourceUtils: Unable to find 'resource-types.xml'.\n",
      "2022-11-03 19:55:16,555 INFO impl.YarnClientImpl: Submitted application application_1667501234871_0001\n",
      "2022-11-03 19:55:16,594 INFO mapreduce.Job: The url to track the job: http://yarnmaster:8088/proxy/application_1667501234871_0001/\n",
      "2022-11-03 19:55:16,595 INFO mapreduce.Job: Running job: job_1667501234871_0001\n",
      "2022-11-03 19:55:22,657 INFO mapreduce.Job: Job job_1667501234871_0001 running in uber mode : false\n",
      "2022-11-03 19:55:22,658 INFO mapreduce.Job:  map 0% reduce 0%\n",
      "2022-11-03 19:55:26,693 INFO mapreduce.Job:  map 100% reduce 0%\n",
      "2022-11-03 19:55:26,702 INFO mapreduce.Job: Job job_1667501234871_0001 completed successfully\n",
      "2022-11-03 19:55:26,755 INFO mapreduce.Job: Counters: 33\n",
      "\tFile System Counters\n",
      "\t\tFILE: Number of bytes read=0\n",
      "\t\tFILE: Number of bytes written=553280\n",
      "\t\tFILE: Number of read operations=0\n",
      "\t\tFILE: Number of large read operations=0\n",
      "\t\tFILE: Number of write operations=0\n",
      "\t\tHDFS: Number of bytes read=668383\n",
      "\t\tHDFS: Number of bytes written=42167\n",
      "\t\tHDFS: Number of read operations=14\n",
      "\t\tHDFS: Number of large read operations=0\n",
      "\t\tHDFS: Number of write operations=4\n",
      "\t\tHDFS: Number of bytes read erasure-coded=0\n",
      "\tJob Counters \n",
      "\t\tLaunched map tasks=2\n",
      "\t\tData-local map tasks=2\n",
      "\t\tTotal time spent by all maps in occupied slots (ms)=4532\n",
      "\t\tTotal time spent by all reduces in occupied slots (ms)=0\n",
      "\t\tTotal time spent by all map tasks (ms)=4532\n",
      "\t\tTotal vcore-milliseconds taken by all map tasks=4532\n",
      "\t\tTotal megabyte-milliseconds taken by all map tasks=4640768\n",
      "\tMap-Reduce Framework\n",
      "\t\tMap input records=10829\n",
      "\t\tMap output records=797\n",
      "\t\tInput split bytes=220\n",
      "\t\tSpilled Records=0\n",
      "\t\tFailed Shuffles=0\n",
      "\t\tMerged Map outputs=0\n",
      "\t\tGC time elapsed (ms)=79\n",
      "\t\tCPU time spent (ms)=850\n",
      "\t\tPhysical memory (bytes) snapshot=431845376\n",
      "\t\tVirtual memory (bytes) snapshot=5100019712\n",
      "\t\tTotal committed heap usage (bytes)=454033408\n",
      "\t\tPeak Map Physical memory (bytes)=221011968\n",
      "\t\tPeak Map Virtual memory (bytes)=2550890496\n",
      "\tFile Input Format Counters \n",
      "\t\tBytes Read=668163\n",
      "\tFile Output Format Counters \n",
      "\t\tBytes Written=42167\n",
      "2022-11-03 19:55:26,755 INFO streaming.StreamJob: Output directory: /user/root/output8\n"
     ]
    }
   ],
   "source": [
    "!mapred streaming -D mapreduce.job.reduces=0 -input /user/root/input/googleplaystoreV3.csv -output /user/root/output8 -file ./mapper_filter.py -mapper mapper_filter.py"
   ]
  },
  {
   "cell_type": "code",
   "execution_count": 4,
   "metadata": {},
   "outputs": [
    {
     "name": "stdout",
     "output_type": "stream",
     "text": [
      "cat: `/user/root/output': No such file or directory\r\n"
     ]
    }
   ],
   "source": [
    "!hadoop fs -cat /user/root/output"
   ]
  }
 ],
 "metadata": {
  "kernelspec": {
   "display_name": "Python 3",
   "language": "python",
   "name": "python3"
  },
  "language_info": {
   "codemirror_mode": {
    "name": "ipython",
    "version": 3
   },
   "file_extension": ".py",
   "mimetype": "text/x-python",
   "name": "python",
   "nbconvert_exporter": "python",
   "pygments_lexer": "ipython3",
   "version": "3.8.5"
  }
 },
 "nbformat": 4,
 "nbformat_minor": 4
}
