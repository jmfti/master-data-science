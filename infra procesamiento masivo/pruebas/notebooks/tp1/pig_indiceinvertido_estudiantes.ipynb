{
 "cells": [
  {
   "cell_type": "markdown",
   "metadata": {},
   "source": [
    "### Pig: Índice invertido\n",
    "\n",
    "Partiendo del dataset de posts utilizado anteriormente, vamos a calcular un índice invertido. "
   ]
  },
  {
   "cell_type": "code",
   "execution_count": null,
   "metadata": {
    "collapsed": true
   },
   "outputs": [],
   "source": [
    "! mkdir -p pig-indiceinvertido\n",
    "import os\n",
    "os.chdir(\"pig-indiceinvertido/\")\n",
    "! pwd"
   ]
  },
  {
   "cell_type": "code",
   "execution_count": null,
   "metadata": {
    "collapsed": true
   },
   "outputs": [],
   "source": [
    "! hadoop fs -put ../../datasets/mr-hdfs/forum_node.tsv"
   ]
  },
  {
   "cell_type": "code",
   "execution_count": null,
   "metadata": {
    "collapsed": true
   },
   "outputs": [],
   "source": [
    "! hadoop fs -put ../../datasets/mr-hdfs/forum1.tsv"
   ]
  },
  {
   "cell_type": "code",
   "execution_count": null,
   "metadata": {
    "collapsed": true
   },
   "outputs": [],
   "source": [
    "%%writefile test.pig\n",
    "\n",
    "REGISTER /usr/lib/pig/piggybank.jar;\n",
    "\n",
    "/* \n",
    "Pon tu codigo aqui\n",
    "Pasos:\n",
    "1.Carga el fichero de los posts forum_node.tsv, recuerda que está separado por tabuladores.\n",
    "2.Limpia el fichero: elimina del body caracteres que no sean letras o números, pásalo a minúsculas, confirma que el identificador es numérico, entre otras opciones. En el identificador de post, elimina caracteres que no sean numéricos.\n",
    "3.Separa el body en palabras y júntalas con el identificador.\n",
    "4.Elimina duplicados (palabras que aparecen más de una vez en un post).\n",
    "5.Agrupa las palabras iguales.\n",
    "6.Prepara los resultados. Para cada palabra, hay que mostrar en orden ascendente el identificador de los posts donde aparece y la cuenta de los posts. \n",
    "7.Almacena los resultados en HDFS.\n",
    "\n",
    "Es interesante saber lo siguiente:\n",
    "    - Esta funcion comprueba si un dato X es numero: org.apache.pig.piggybank.evaluation.IsNumeric(X)\n",
    "    - Para limpiar el body se puede utilizar esta expresion regular: '[^a-zA-Z0-9\\']+'\n",
    "\n",
    "*/\n",
    "\n",
    "\n",
    "\n"
   ]
  },
  {
   "cell_type": "code",
   "execution_count": null,
   "metadata": {
    "collapsed": true,
    "scrolled": true
   },
   "outputs": [],
   "source": [
    "! pig -f test.pig -x local"
   ]
  },
  {
   "cell_type": "code",
   "execution_count": null,
   "metadata": {
    "collapsed": true
   },
   "outputs": [],
   "source": [
    "! pig -f test.pig"
   ]
  }
 ],
 "metadata": {
  "kernelspec": {
   "display_name": "Python 2",
   "language": "python",
   "name": "python2"
  },
  "language_info": {
   "codemirror_mode": {
    "name": "ipython",
    "version": 2
   },
   "file_extension": ".py",
   "mimetype": "text/x-python",
   "name": "python",
   "nbconvert_exporter": "python",
   "pygments_lexer": "ipython2",
   "version": "2.7.14"
  }
 },
 "nbformat": 4,
 "nbformat_minor": 2
}
