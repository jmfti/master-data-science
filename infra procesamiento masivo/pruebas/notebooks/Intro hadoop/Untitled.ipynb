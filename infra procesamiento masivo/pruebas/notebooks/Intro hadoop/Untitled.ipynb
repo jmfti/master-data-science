{
 "cells": [
  {
   "cell_type": "markdown",
   "metadata": {},
   "source": [
    "# HDFS"
   ]
  },
  {
   "cell_type": "code",
   "execution_count": 2,
   "metadata": {},
   "outputs": [
    {
     "name": "stdout",
     "output_type": "stream",
     "text": [
      "Configured Capacity: 1077961572352 (1003.93 GB)\r\n",
      "Present Capacity: 999785168896 (931.12 GB)\r\n",
      "DFS Remaining: 999785070592 (931.12 GB)\r\n",
      "DFS Used: 98304 (96 KB)\r\n",
      "DFS Used%: 0.00%\r\n",
      "Replicated Blocks:\r\n",
      "\tUnder replicated blocks: 0\r\n",
      "\tBlocks with corrupt replicas: 0\r\n",
      "\tMissing blocks: 0\r\n",
      "\tMissing blocks (with replication factor 1): 0\r\n",
      "\tLow redundancy blocks with highest priority to recover: 0\r\n",
      "\tPending deletion blocks: 0\r\n",
      "Erasure Coded Block Groups: \r\n",
      "\tLow redundancy block groups: 0\r\n",
      "\tBlock groups with corrupt internal blocks: 0\r\n",
      "\tMissing block groups: 0\r\n",
      "\tLow redundancy blocks with highest priority to recover: 0\r\n",
      "\tPending deletion blocks: 0\r\n",
      "\r\n",
      "-------------------------------------------------\r\n",
      "Live datanodes (4):\r\n",
      "\r\n",
      "Name: 172.18.0.2:9866 (pruebas-datanode-1.pruebas_hadoop)\r\n",
      "Hostname: a72d21651fb8\r\n",
      "Decommission Status : Normal\r\n",
      "Configured Capacity: 269490393088 (250.98 GB)\r\n",
      "DFS Used: 24576 (24 KB)\r\n",
      "Non DFS Used: 5783429120 (5.39 GB)\r\n",
      "DFS Remaining: 249946267648 (232.78 GB)\r\n",
      "DFS Used%: 0.00%\r\n",
      "DFS Remaining%: 92.75%\r\n",
      "Configured Cache Capacity: 0 (0 B)\r\n",
      "Cache Used: 0 (0 B)\r\n",
      "Cache Remaining: 0 (0 B)\r\n",
      "Cache Used%: 100.00%\r\n",
      "Cache Remaining%: 0.00%\r\n",
      "Xceivers: 0\r\n",
      "Last contact: Thu Nov 03 19:54:34 CET 2022\r\n",
      "Last Block Report: Thu Nov 03 19:47:16 CET 2022\r\n",
      "Num of Blocks: 0\r\n",
      "\r\n",
      "\r\n",
      "Name: 172.18.0.3:9866 (pruebas-datanode-4.pruebas_hadoop)\r\n",
      "Hostname: 1fdc3e15230b\r\n",
      "Decommission Status : Normal\r\n",
      "Configured Capacity: 269490393088 (250.98 GB)\r\n",
      "DFS Used: 24576 (24 KB)\r\n",
      "Non DFS Used: 5783429120 (5.39 GB)\r\n",
      "DFS Remaining: 249946267648 (232.78 GB)\r\n",
      "DFS Used%: 0.00%\r\n",
      "DFS Remaining%: 92.75%\r\n",
      "Configured Cache Capacity: 0 (0 B)\r\n",
      "Cache Used: 0 (0 B)\r\n",
      "Cache Remaining: 0 (0 B)\r\n",
      "Cache Used%: 100.00%\r\n",
      "Cache Remaining%: 0.00%\r\n",
      "Xceivers: 0\r\n",
      "Last contact: Thu Nov 03 19:54:34 CET 2022\r\n",
      "Last Block Report: Thu Nov 03 19:47:16 CET 2022\r\n",
      "Num of Blocks: 0\r\n",
      "\r\n",
      "\r\n",
      "Name: 172.18.0.4:9866 (pruebas-datanode-3.pruebas_hadoop)\r\n",
      "Hostname: a2bd9f6e20b1\r\n",
      "Decommission Status : Normal\r\n",
      "Configured Capacity: 269490393088 (250.98 GB)\r\n",
      "DFS Used: 24576 (24 KB)\r\n",
      "Non DFS Used: 5783429120 (5.39 GB)\r\n",
      "DFS Remaining: 249946267648 (232.78 GB)\r\n",
      "DFS Used%: 0.00%\r\n",
      "DFS Remaining%: 92.75%\r\n",
      "Configured Cache Capacity: 0 (0 B)\r\n",
      "Cache Used: 0 (0 B)\r\n",
      "Cache Remaining: 0 (0 B)\r\n",
      "Cache Used%: 100.00%\r\n",
      "Cache Remaining%: 0.00%\r\n",
      "Xceivers: 0\r\n",
      "Last contact: Thu Nov 03 19:54:34 CET 2022\r\n",
      "Last Block Report: Thu Nov 03 19:47:16 CET 2022\r\n",
      "Num of Blocks: 0\r\n",
      "\r\n",
      "\r\n",
      "Name: 172.18.0.5:9866 (pruebas-datanode-2.pruebas_hadoop)\r\n",
      "Hostname: 454b642c4780\r\n",
      "Decommission Status : Normal\r\n",
      "Configured Capacity: 269490393088 (250.98 GB)\r\n",
      "DFS Used: 24576 (24 KB)\r\n",
      "Non DFS Used: 5783429120 (5.39 GB)\r\n",
      "DFS Remaining: 249946267648 (232.78 GB)\r\n",
      "DFS Used%: 0.00%\r\n",
      "DFS Remaining%: 92.75%\r\n",
      "Configured Cache Capacity: 0 (0 B)\r\n",
      "Cache Used: 0 (0 B)\r\n",
      "Cache Remaining: 0 (0 B)\r\n",
      "Cache Used%: 100.00%\r\n",
      "Cache Remaining%: 0.00%\r\n",
      "Xceivers: 0\r\n",
      "Last contact: Thu Nov 03 19:54:34 CET 2022\r\n",
      "Last Block Report: Thu Nov 03 19:47:16 CET 2022\r\n",
      "Num of Blocks: 0\r\n",
      "\r\n",
      "\r\n"
     ]
    }
   ],
   "source": [
    "# Visualizar la info del cluster\n",
    "!hdfs dfsadmin -report"
   ]
  },
  {
   "cell_type": "code",
   "execution_count": 3,
   "metadata": {},
   "outputs": [
    {
     "name": "stdout",
     "output_type": "stream",
     "text": [
      "--help: Unknown command\r\n",
      "Usage: hadoop fs [generic options]\r\n",
      "\t[-appendToFile <localsrc> ... <dst>]\r\n",
      "\t[-cat [-ignoreCrc] <src> ...]\r\n",
      "\t[-checksum [-v] <src> ...]\r\n",
      "\t[-chgrp [-R] GROUP PATH...]\r\n",
      "\t[-chmod [-R] <MODE[,MODE]... | OCTALMODE> PATH...]\r\n",
      "\t[-chown [-R] [OWNER][:[GROUP]] PATH...]\r\n",
      "\t[-concat <target path> <src path> <src path> ...]\r\n",
      "\t[-copyFromLocal [-f] [-p] [-l] [-d] [-t <thread count>] <localsrc> ... <dst>]\r\n",
      "\t[-copyToLocal [-f] [-p] [-ignoreCrc] [-crc] <src> ... <localdst>]\r\n",
      "\t[-count [-q] [-h] [-v] [-t [<storage type>]] [-u] [-x] [-e] [-s] <path> ...]\r\n",
      "\t[-cp [-f] [-p | -p[topax]] [-d] <src> ... <dst>]\r\n",
      "\t[-createSnapshot <snapshotDir> [<snapshotName>]]\r\n",
      "\t[-deleteSnapshot <snapshotDir> <snapshotName>]\r\n",
      "\t[-df [-h] [<path> ...]]\r\n",
      "\t[-du [-s] [-h] [-v] [-x] <path> ...]\r\n",
      "\t[-expunge [-immediate] [-fs <path>]]\r\n",
      "\t[-find <path> ... <expression> ...]\r\n",
      "\t[-get [-f] [-p] [-ignoreCrc] [-crc] <src> ... <localdst>]\r\n",
      "\t[-getfacl [-R] <path>]\r\n",
      "\t[-getfattr [-R] {-n name | -d} [-e en] <path>]\r\n",
      "\t[-getmerge [-nl] [-skip-empty-file] <src> <localdst>]\r\n",
      "\t[-head <file>]\r\n",
      "\t[-help [cmd ...]]\r\n",
      "\t[-ls [-C] [-d] [-h] [-q] [-R] [-t] [-S] [-r] [-u] [-e] [<path> ...]]\r\n",
      "\t[-mkdir [-p] <path> ...]\r\n",
      "\t[-moveFromLocal [-f] [-p] [-l] [-d] <localsrc> ... <dst>]\r\n",
      "\t[-moveToLocal <src> <localdst>]\r\n",
      "\t[-mv <src> ... <dst>]\r\n",
      "\t[-put [-f] [-p] [-l] [-d] [-t <thread count>] <localsrc> ... <dst>]\r\n",
      "\t[-renameSnapshot <snapshotDir> <oldName> <newName>]\r\n",
      "\t[-rm [-f] [-r|-R] [-skipTrash] [-safely] <src> ...]\r\n",
      "\t[-rmdir [--ignore-fail-on-non-empty] <dir> ...]\r\n",
      "\t[-setfacl [-R] [{-b|-k} {-m|-x <acl_spec>} <path>]|[--set <acl_spec> <path>]]\r\n",
      "\t[-setfattr {-n name [-v value] | -x name} <path>]\r\n",
      "\t[-setrep [-R] [-w] <rep> <path> ...]\r\n",
      "\t[-stat [format] <path> ...]\r\n",
      "\t[-tail [-f] [-s <sleep interval>] <file>]\r\n",
      "\t[-test -[defswrz] <path>]\r\n",
      "\t[-text [-ignoreCrc] <src> ...]\r\n",
      "\t[-touch [-a] [-m] [-t TIMESTAMP (yyyyMMdd:HHmmss) ] [-c] <path> ...]\r\n",
      "\t[-touchz <path> ...]\r\n",
      "\t[-truncate [-w] <length> <path> ...]\r\n",
      "\t[-usage [cmd ...]]\r\n",
      "\r\n",
      "Generic options supported are:\r\n",
      "-conf <configuration file>        specify an application configuration file\r\n",
      "-D <property=value>               define a value for a given property\r\n",
      "-fs <file:///|hdfs://namenode:port> specify default filesystem URL to use, overrides 'fs.defaultFS' property from configurations.\r\n",
      "-jt <local|resourcemanager:port>  specify a ResourceManager\r\n",
      "-files <file1,...>                specify a comma-separated list of files to be copied to the map reduce cluster\r\n",
      "-libjars <jar1,...>               specify a comma-separated list of jar files to be included in the classpath\r\n",
      "-archives <archive1,...>          specify a comma-separated list of archives to be unarchived on the compute machines\r\n",
      "\r\n",
      "The general command line syntax is:\r\n",
      "command [genericOptions] [commandOptions]\r\n",
      "\r\n"
     ]
    }
   ],
   "source": [
    "!hadoop fs --help"
   ]
  },
  {
   "cell_type": "code",
   "execution_count": 4,
   "metadata": {},
   "outputs": [],
   "source": [
    "!hadoop fs -mkdir /user/root/input"
   ]
  },
  {
   "cell_type": "markdown",
   "metadata": {},
   "source": [
    "# Comandos básicos"
   ]
  },
  {
   "cell_type": "code",
   "execution_count": 5,
   "metadata": {},
   "outputs": [],
   "source": [
    "!hadoop fs -copyFromLocal /dataset/* /user/root/input"
   ]
  },
  {
   "cell_type": "code",
   "execution_count": 6,
   "metadata": {},
   "outputs": [
    {
     "name": "stdout",
     "output_type": "stream",
     "text": [
      "Found 3 items\r\n",
      "drwxr-xr-x   - root supergroup          0 2022-11-03 19:54 /user/root/input/2.1\r\n",
      "-rw-r--r--   3 root supergroup     664067 2022-11-03 19:54 /user/root/input/googleplaystoreV3.csv\r\n",
      "-rw-r--r--   3 root supergroup         92 2022-11-03 19:54 /user/root/input/texto.txt\r\n"
     ]
    }
   ],
   "source": [
    "!hadoop fs -ls /user/root/input"
   ]
  },
  {
   "cell_type": "code",
   "execution_count": 7,
   "metadata": {},
   "outputs": [
    {
     "name": "stdout",
     "output_type": "stream",
     "text": [
      "copyToLocal: `texto.txt': File exists\r\n"
     ]
    }
   ],
   "source": [
    "!hadoop fs -copyToLocal /user/root/input/texto.txt"
   ]
  },
  {
   "cell_type": "code",
   "execution_count": 8,
   "metadata": {},
   "outputs": [
    {
     "name": "stdout",
     "output_type": "stream",
     "text": [
      "Esto es un ejemplo de programación mapreduce.\r\n",
      "Esto es un ejemplo de contador de palabras. \r\n"
     ]
    }
   ],
   "source": [
    "!hadoop fs -cat /user/root/input/texto.txt"
   ]
  },
  {
   "cell_type": "code",
   "execution_count": 9,
   "metadata": {},
   "outputs": [
    {
     "name": "stdout",
     "output_type": "stream",
     "text": [
      "0,Photo Editor & Candy Camera & Grid & ScrapBook,ART_AND_DESIGN,4.1,159,10000,Free,0\r\n",
      "1,Coloring book moana,ART_AND_DESIGN,3.9,967,500000,Free,0\r\n",
      "2,U Launcher Lite – FREE Live Cool Themes Hide Apps,ART_AND_DESIGN,4.7,87510,5000000,Free,0\r\n",
      "3,Sketch - Draw & Paint,ART_AND_DESIGN,4.5,215644,50000000,Free,0\r\n",
      "4,Pixel Draw - Number Art Coloring Book,ART_AND_DESIGN,4.3,967,100000,Free,0\r\n",
      "5,Paper flowers instructions,ART_AND_DESIGN,4.4,167,50000,Free,0\r\n",
      "6,Smoke Effect Photo Maker - Smoke Editor,ART_AND_DESIGN,3.8,178,50000,Free,0\r\n",
      "7,Infinite Painter,ART_AND_DESIGN,4.1,36815,1000000,Free,0\r\n",
      "8,Garden Coloring Book,ART_AND_DESIGN,4.4,13791,1000000,Free,0\r\n",
      "9,Kids Paint Free - Drawing Fun,ART_AND_DESIGN,4.7,121,10000,Free,0\r\n",
      "10,Text on Photo - Fonteee,ART_AND_DESIGN,4.4,13880,1000000,Free,0\r\n",
      "11,Name Art Photo Editor - Focus n Filters,ART_AND_DESIGN,4.4,8788,1000000,Free,0\r\n",
      "12,Tattoo Name On My Photo Editor,ART_AND_DESIGN,4.2,44829,10000000,Free,0\r\n",
      "13,Mandala Coloring Book,ART_AND_DESIGN,4.6,4326,100000,Free,0\r\n",
      "14,3D Color Pixel by Nu"
     ]
    }
   ],
   "source": [
    "!hadoop fs -head /user/root/input/googleplaystoreV3.csv"
   ]
  },
  {
   "cell_type": "code",
   "execution_count": 10,
   "metadata": {},
   "outputs": [
    {
     "name": "stdout",
     "output_type": "stream",
     "text": [
      "Replication 2 set: /user/root/input/texto.txt\n",
      "Waiting for /user/root/input/texto.txt ...\n",
      "WARNING: the waiting time may be long for DECREASING the number of replications.\n",
      ". done\n"
     ]
    }
   ],
   "source": [
    "# setear replicacion\n",
    "!hadoop fs -setrep -w 2 /user/root/input/texto.txt"
   ]
  },
  {
   "cell_type": "code",
   "execution_count": 11,
   "metadata": {},
   "outputs": [
    {
     "name": "stdout",
     "output_type": "stream",
     "text": [
      "Found 3 items\r\n",
      "drwxr-xr-x   - root supergroup          0 2022-11-03 19:54 /user/root/input/2.1\r\n",
      "-rw-r--r--   3 root supergroup     664067 2022-11-03 19:54 /user/root/input/googleplaystoreV3.csv\r\n",
      "-rw-r--r--   2 root supergroup         92 2022-11-03 19:54 /user/root/input/texto.txt\r\n"
     ]
    }
   ],
   "source": [
    "!hadoop fs -ls /user/root/input"
   ]
  },
  {
   "cell_type": "code",
   "execution_count": 12,
   "metadata": {},
   "outputs": [
    {
     "name": "stdout",
     "output_type": "stream",
     "text": [
      "Connecting to namenode via http://namenode:9870/fsck?ugi=root&files=1&blocks=1&path=%2F\n",
      "FSCK started by root (auth:SIMPLE) from /172.18.0.7 for path / at Thu Nov 03 19:55:03 CET 2022\n",
      "\n",
      "/ <dir>\n",
      "/tmp <dir>\n",
      "/tmp/hadoop-yarn <dir>\n",
      "/tmp/hadoop-yarn/staging <dir>\n",
      "/tmp/hadoop-yarn/staging/history <dir>\n",
      "/tmp/hadoop-yarn/staging/history/done <dir>\n",
      "/tmp/hadoop-yarn/staging/history/done_intermediate <dir>\n",
      "/tmp/hive <dir>\n",
      "/tmp/hive/_resultscache_ <dir>\n",
      "/tmp/hive/_resultscache_/results-bfd8f3ff-1177-49c9-978d-cb41d9c49587 <dir>\n",
      "/tmp/hive/root <dir>\n",
      "/tmp/hive/root/1743b820-d3ca-4728-9816-12da9e4b0f02 <dir>\n",
      "/tmp/hive/root/1743b820-d3ca-4728-9816-12da9e4b0f02/_tmp_space.db <dir>\n",
      "/tmp/hive/root/6b9eb0d9-0005-4eb4-94f3-74c0fa160ad1 <dir>\n",
      "/tmp/hive/root/6b9eb0d9-0005-4eb4-94f3-74c0fa160ad1/_tmp_space.db <dir>\n",
      "/tmp/hive/root/cfc52ea4-f9b3-4bd3-adf1-5789a1354ef7 <dir>\n",
      "/tmp/hive/root/cfc52ea4-f9b3-4bd3-adf1-5789a1354ef7/_tmp_space.db <dir>\n",
      "/tmp/hive/root/d7d4d348-0b05-480e-97c5-b22725f4e81f <dir>\n",
      "/tmp/hive/root/d7d4d348-0b05-480e-97c5-b22725f4e81f/_tmp_space.db <dir>\n",
      "/user <dir>\n",
      "/user/hive <dir>\n",
      "/user/hive/warehouse <dir>\n",
      "/user/root <dir>\n",
      "/user/root/input <dir>\n",
      "/user/root/input/2.1 <dir>\n",
      "/user/root/input/2.1/HR2018c.csv 2881 bytes, replicated: replication=3, 1 block(s):  OK\n",
      "0. BP-858413720-172.17.0.2-1624180586568:blk_1073741826_1002 len=2881 Live_repl=3\n",
      "\n",
      "/user/root/input/2.1/HR2019c.csv 2892 bytes, replicated: replication=3, 1 block(s):  OK\n",
      "0. BP-858413720-172.17.0.2-1624180586568:blk_1073741825_1001 len=2892 Live_repl=3\n",
      "\n",
      "/user/root/input/2.1/lifeExpectancyAtBirthc.csv 13413 bytes, replicated: replication=3, 1 block(s):  OK\n",
      "0. BP-858413720-172.17.0.2-1624180586568:blk_1073741827_1003 len=13413 Live_repl=3\n",
      "\n",
      "/user/root/input/googleplaystoreV3.csv 664067 bytes, replicated: replication=3, 1 block(s):  OK\n",
      "0. BP-858413720-172.17.0.2-1624180586568:blk_1073741828_1004 len=664067 Live_repl=3\n",
      "\n",
      "/user/root/input/texto.txt 92 bytes, replicated: replication=2, 1 block(s):  OK\n",
      "0. BP-858413720-172.17.0.2-1624180586568:blk_1073741829_1005 len=92 Live_repl=2\n",
      "\n",
      "\n",
      "Status: HEALTHY\n",
      " Number of data-nodes:\t4\n",
      " Number of racks:\t\t1\n",
      " Total dirs:\t\t\t25\n",
      " Total symlinks:\t\t0\n",
      "\n",
      "Replicated Blocks:\n",
      " Total size:\t683345 B\n",
      " Total files:\t5\n",
      " Total blocks (validated):\t5 (avg. block size 136669 B)\n",
      " Minimally replicated blocks:\t5 (100.0 %)\n",
      " Over-replicated blocks:\t0 (0.0 %)\n",
      " Under-replicated blocks:\t0 (0.0 %)\n",
      " Mis-replicated blocks:\t\t0 (0.0 %)\n",
      " Default replication factor:\t3\n",
      " Average block replication:\t2.8\n",
      " Missing blocks:\t\t0\n",
      " Corrupt blocks:\t\t0\n",
      " Missing replicas:\t\t0 (0.0 %)\n",
      " Blocks queued for replication:\t0\n",
      "\n",
      "Erasure Coded Block Groups:\n",
      " Total size:\t0 B\n",
      " Total files:\t0\n",
      " Total block groups (validated):\t0\n",
      " Minimally erasure-coded block groups:\t0\n",
      " Over-erasure-coded block groups:\t0\n",
      " Under-erasure-coded block groups:\t0\n",
      " Unsatisfactory placement block groups:\t0\n",
      " Average block group size:\t0.0\n",
      " Missing block groups:\t\t0\n",
      " Corrupt block groups:\t\t0\n",
      " Missing internal blocks:\t0\n",
      " Blocks queued for replication:\t0\n",
      "FSCK ended at Thu Nov 03 19:55:03 CET 2022 in 7 milliseconds\n",
      "\n",
      "\n",
      "The filesystem under path '/' is HEALTHY\n"
     ]
    }
   ],
   "source": [
    "# comprobar inconsistencias\n",
    "!hdfs fsck / -files -blocks"
   ]
  },
  {
   "cell_type": "code",
   "execution_count": 13,
   "metadata": {},
   "outputs": [
    {
     "name": "stdout",
     "output_type": "stream",
     "text": [
      "2022-11-03 19:55:04,243 INFO balancer.Balancer: namenodes  = [hdfs://namenode:8020]\n",
      "2022-11-03 19:55:04,245 INFO balancer.Balancer: parameters = Balancer.BalancerParameters [BalancingPolicy.Node, threshold = 10.0, max idle iteration = 5, #excluded nodes = 0, #included nodes = 0, #source nodes = 0, #blockpools = 0, run during upgrade = false]\n",
      "2022-11-03 19:55:04,245 INFO balancer.Balancer: included nodes = []\n",
      "2022-11-03 19:55:04,245 INFO balancer.Balancer: excluded nodes = []\n",
      "2022-11-03 19:55:04,245 INFO balancer.Balancer: source nodes = []\n",
      "Time Stamp               Iteration#  Bytes Already Moved  Bytes Left To Move  Bytes Being Moved  NameNode\n",
      "2022-11-03 19:55:04,247 INFO balancer.NameNodeConnector: getBlocks calls for hdfs://namenode:8020 will be rate-limited to 20 per second\n",
      "2022-11-03 19:55:04,819 INFO balancer.Balancer: dfs.namenode.get-blocks.max-qps = 20 (default=20)\n",
      "2022-11-03 19:55:04,819 INFO balancer.Balancer: dfs.balancer.movedWinWidth = 5400000 (default=5400000)\n",
      "2022-11-03 19:55:04,819 INFO balancer.Balancer: dfs.balancer.moverThreads = 1000 (default=1000)\n",
      "2022-11-03 19:55:04,819 INFO balancer.Balancer: dfs.balancer.dispatcherThreads = 200 (default=200)\n",
      "2022-11-03 19:55:04,820 INFO balancer.Balancer: dfs.balancer.getBlocks.size = 2147483648 (default=2147483648)\n",
      "2022-11-03 19:55:04,820 INFO balancer.Balancer: dfs.balancer.getBlocks.min-block-size = 10485760 (default=10485760)\n",
      "2022-11-03 19:55:04,820 INFO balancer.Balancer: dfs.datanode.balance.max.concurrent.moves = 100 (default=100)\n",
      "2022-11-03 19:55:04,820 INFO balancer.Balancer: dfs.datanode.balance.bandwidthPerSec = 104857600 (default=104857600)\n",
      "2022-11-03 19:55:04,823 INFO balancer.Balancer: dfs.balancer.max-size-to-move = 10737418240 (default=10737418240)\n",
      "2022-11-03 19:55:04,824 INFO balancer.Balancer: dfs.blocksize = 134217728 (default=134217728)\n",
      "2022-11-03 19:55:04,839 INFO net.NetworkTopology: Adding a new node: /default-rack/172.18.0.3:9866\n",
      "2022-11-03 19:55:04,839 INFO net.NetworkTopology: Adding a new node: /default-rack/172.18.0.2:9866\n",
      "2022-11-03 19:55:04,839 INFO net.NetworkTopology: Adding a new node: /default-rack/172.18.0.4:9866\n",
      "2022-11-03 19:55:04,839 INFO net.NetworkTopology: Adding a new node: /default-rack/172.18.0.5:9866\n",
      "2022-11-03 19:55:04,841 INFO balancer.Balancer: 0 over-utilized: []\n",
      "2022-11-03 19:55:04,841 INFO balancer.Balancer: 0 underutilized: []\n",
      "Nov 3, 2022 7:55:04 PM            0                  0 B                 0 B                0 B                  0  hdfs://namenode:8020\n",
      "The cluster is balanced. Exiting...\n",
      "Nov 3, 2022 7:55:04 PM   Balancing took 734.0 milliseconds\n"
     ]
    }
   ],
   "source": [
    "# con el paso del tiempo se va desbalanceando y hay que balancear para que no se degrade el rendimiento\n",
    "!hdfs balancer"
   ]
  },
  {
   "cell_type": "code",
   "execution_count": null,
   "metadata": {},
   "outputs": [],
   "source": []
  }
 ],
 "metadata": {
  "kernelspec": {
   "display_name": "Python 3",
   "language": "python",
   "name": "python3"
  },
  "language_info": {
   "codemirror_mode": {
    "name": "ipython",
    "version": 3
   },
   "file_extension": ".py",
   "mimetype": "text/x-python",
   "name": "python",
   "nbconvert_exporter": "python",
   "pygments_lexer": "ipython3",
   "version": "3.8.5"
  }
 },
 "nbformat": 4,
 "nbformat_minor": 4
}
