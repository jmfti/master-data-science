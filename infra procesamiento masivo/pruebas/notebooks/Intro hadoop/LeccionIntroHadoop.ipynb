{
 "cells": [
  {
   "cell_type": "code",
   "execution_count": 1,
   "metadata": {},
   "outputs": [
    {
     "name": "stdout",
     "output_type": "stream",
     "text": [
      "2.1  googleplaystoreV3.csv  texto.txt\r\n"
     ]
    }
   ],
   "source": [
    "#Comprobamos la existencia de los dataset\n",
    "!ls /dataset"
   ]
  },
  {
   "cell_type": "code",
   "execution_count": 2,
   "metadata": {},
   "outputs": [
    {
     "name": "stdout",
     "output_type": "stream",
     "text": [
      "mkdir: `/user/root/input': File exists\r\n"
     ]
    }
   ],
   "source": [
    "#Creamos un directorio para almacenar los datos de entrada\n",
    "!hadoop fs -mkdir /user/root/input"
   ]
  },
  {
   "cell_type": "code",
   "execution_count": 3,
   "metadata": {},
   "outputs": [
    {
     "name": "stdout",
     "output_type": "stream",
     "text": [
      "copyFromLocal: `/user/root/input/texto.txt': File exists\r\n"
     ]
    }
   ],
   "source": [
    "#Copiamos el fichero texto.txt a HDFS\n",
    "!hadoop fs -copyFromLocal /dataset/texto.txt /user/root/input"
   ]
  },
  {
   "cell_type": "code",
   "execution_count": 4,
   "metadata": {},
   "outputs": [
    {
     "name": "stdout",
     "output_type": "stream",
     "text": [
      "Found 3 items\r\n",
      "drwxr-xr-x   - root supergroup          0 2022-11-03 19:54 /user/root/input/2.1\r\n",
      "-rw-r--r--   3 root supergroup     664067 2022-11-03 19:54 /user/root/input/googleplaystoreV3.csv\r\n",
      "-rw-r--r--   2 root supergroup         92 2022-11-03 19:54 /user/root/input/texto.txt\r\n"
     ]
    }
   ],
   "source": [
    "#Comprobamos que se ha importado correctamente y vemos la información \n",
    "!hadoop fs -ls /user/root/input"
   ]
  },
  {
   "cell_type": "code",
   "execution_count": 5,
   "metadata": {},
   "outputs": [
    {
     "name": "stdout",
     "output_type": "stream",
     "text": [
      "Esto es un ejemplo de programación mapreduce.\r\n",
      "Esto es un ejemplo de contador de palabras. \r\n"
     ]
    }
   ],
   "source": [
    "#Mostramos el contenido de texto.txt\n",
    "!hadoop fs -cat /user/root/input/texto.txt"
   ]
  },
  {
   "cell_type": "markdown",
   "metadata": {},
   "source": [
    "La programación MapReduce para Hadoop puede hacerse utilizando una gran variedad de lenguajes de programación. Por su utilidad en el análisis de datos y su sencillez y rápido aprendizaje utilizaremos Python. "
   ]
  },
  {
   "cell_type": "code",
   "execution_count": 6,
   "metadata": {},
   "outputs": [
    {
     "name": "stdout",
     "output_type": "stream",
     "text": [
      "Overwriting mapper.py\n"
     ]
    }
   ],
   "source": [
    "%%writefile mapper.py\n",
    "#!/usr/bin/env python3\n",
    "import sys\n",
    "\n",
    "#Leemos cada linea de la entrada estandar\n",
    "for line in sys.stdin:  \n",
    "    #Dividimos en palabras cada linea\n",
    "    words = line.split()  \n",
    "    #Iteramos sobre cada palabra contenida en words\n",
    "    for word in words:    \n",
    "        #Escribimos por salida estandar el par <Clave,Valor>\n",
    "        #En este caso la Clave será la palabra en cuestión y el valor será 1\n",
    "        print(f\"{word}\\t1\")"
   ]
  },
  {
   "cell_type": "code",
   "execution_count": 7,
   "metadata": {},
   "outputs": [
    {
     "name": "stdout",
     "output_type": "stream",
     "text": [
      "Esto\t1\r\n",
      "es\t1\r\n",
      "un\t1\r\n",
      "ejemplo\t1\r\n",
      "de\t1\r\n",
      "programación\t1\r\n",
      "mapreduce.\t1\r\n",
      "Esto\t1\r\n",
      "es\t1\r\n",
      "un\t1\r\n",
      "ejemplo\t1\r\n",
      "de\t1\r\n",
      "contador\t1\r\n",
      "de\t1\r\n",
      "palabras.\t1\r\n"
     ]
    }
   ],
   "source": [
    "#Para que el script de Python se ejecute, necesita permisos de ejecución. Probamos a ejecutar en local.\n",
    "!chmod +x mapper.py\n",
    "!cat /dataset/texto.txt | ./mapper.py"
   ]
  },
  {
   "cell_type": "code",
   "execution_count": 8,
   "metadata": {},
   "outputs": [
    {
     "name": "stdout",
     "output_type": "stream",
     "text": [
      "Overwriting reducer.py\n"
     ]
    }
   ],
   "source": [
    "%%writefile reducer.py\n",
    "#!/usr/bin/env python3\n",
    "import sys\n",
    "\n",
    "curr_word = None\n",
    "curr_count = 0\n",
    "\n",
    "# Procesamos cada Clave-Valor que produce la funcion map\n",
    "for line in sys.stdin:\n",
    "\n",
    "    #Dividimos la clave y el valor\n",
    "    word, count = line.split('\\t')\n",
    "\n",
    "    #Convertimos a entero el valor\n",
    "    count = int(count)\n",
    "\n",
    "    #Si la palabra actual es la misma que la previa, incrementamos el contador\n",
    "    #en otro caso imprimimos la palabra en cuestion con el contador\n",
    "    if word == curr_word:\n",
    "        curr_count += count\n",
    "    else:\n",
    "        if curr_word:   \n",
    "            print (f\"{curr_word}\\t{curr_count}\")\n",
    "        \n",
    "        #Actualizamos las variables a la nueva palabra\n",
    "        curr_word = word\n",
    "        curr_count = count\n",
    "\n",
    "#Imprimimos la ultima palabra\n",
    "if curr_word == word:\n",
    "      print (f\"{curr_word}\\t{curr_count}\")"
   ]
  },
  {
   "cell_type": "code",
   "execution_count": 9,
   "metadata": {},
   "outputs": [
    {
     "name": "stdout",
     "output_type": "stream",
     "text": [
      "Esto\t2\r\n",
      "contador\t1\r\n",
      "de\t3\r\n",
      "ejemplo\t2\r\n",
      "es\t2\r\n",
      "mapreduce.\t1\r\n",
      "palabras.\t1\r\n",
      "programación\t1\r\n",
      "un\t2\r\n"
     ]
    }
   ],
   "source": [
    "#Otorgamos permisos de ejecución al script reducer y probamos el programa completo en local. \n",
    "#El comando sort de unix hace de fase sort&shuffle\n",
    "!chmod +x reducer.py\n",
    "!cat /dataset/texto.txt | ./mapper.py | sort | ./reducer.py"
   ]
  },
  {
   "cell_type": "code",
   "execution_count": 10,
   "metadata": {},
   "outputs": [
    {
     "name": "stdout",
     "output_type": "stream",
     "text": [
      "2022-11-03 19:56:07,964 WARN streaming.StreamJob: -file option is deprecated, please use generic option -files instead.\n",
      "File: file:/media/notebooks/Leccion1.1/reducer.py does not exist.\n",
      "Try -help for more information\n",
      "Streaming Command Failed!\n"
     ]
    }
   ],
   "source": [
    "#Ejecutamos el programa MapReduce en el clúster Hadoop. \n",
    "!mapred streaming \\\n",
    "  -input /user/root/input/texto.txt \\\n",
    "  -output /user/root/output \\\n",
    "  -file /media/notebooks/Leccion1.1/reducer.py \\\n",
    "  -file /media/notebooks/Leccion1.1/mapper.py \\\n",
    "  -mapper mapper.py \\\n",
    "  -reducer reducer.py"
   ]
  },
  {
   "cell_type": "code",
   "execution_count": 11,
   "metadata": {},
   "outputs": [
    {
     "name": "stdout",
     "output_type": "stream",
     "text": [
      "ls: `/user/root/output': No such file or directory\r\n"
     ]
    }
   ],
   "source": [
    "#El resultado se almacena en el directorio especificado en el comando.\n",
    "#Se crea un archivo _SUCCESS que indica la correcta ejecución del programa.\n",
    "#El resultado se almacena en el fichero part-00000\n",
    "!hadoop fs -ls /user/root/output"
   ]
  },
  {
   "cell_type": "code",
   "execution_count": 12,
   "metadata": {},
   "outputs": [
    {
     "name": "stdout",
     "output_type": "stream",
     "text": [
      "cat: `/user/root/output/*': No such file or directory\r\n"
     ]
    }
   ],
   "source": [
    "#Comprobamos el resultado \n",
    "!hadoop fs -cat /user/root/output/*"
   ]
  },
  {
   "cell_type": "code",
   "execution_count": null,
   "metadata": {},
   "outputs": [],
   "source": []
  }
 ],
 "metadata": {
  "kernelspec": {
   "display_name": "Python 3",
   "language": "python",
   "name": "python3"
  },
  "language_info": {
   "codemirror_mode": {
    "name": "ipython",
    "version": 3
   },
   "file_extension": ".py",
   "mimetype": "text/x-python",
   "name": "python",
   "nbconvert_exporter": "python",
   "pygments_lexer": "ipython3",
   "version": "3.8.5"
  }
 },
 "nbformat": 4,
 "nbformat_minor": 5
}
